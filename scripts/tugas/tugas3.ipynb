{
 "cells": [
  {
   "cell_type": "markdown",
   "metadata": {},
   "source": [
    "# Pemrograman Python\n",
    "\n",
    "## Tugas 3: Manipulasi dan Visualisasi Data\n",
    "\n",
    "### Mekanisme\n",
    "\n",
    "Anda hanya diwajibkan untuk mengumpulkan file ini saja ke uploader yang disediakan di http://elearning2.uai.ac.id/. Ganti nama file ini saat pengumpulan menjadi tugas2_NIM.ipynb.\n",
    "\n",
    "**Keterlambatan**: Pengumpulan tugas yang melebihi tenggat yang telah ditentukan tidak akan diterima. Keterlambatan akan berakibat pada nilai nol untuk tugas ini.\n",
    "\n",
    "**Kolaborasi**: Anda diperbolehkan untuk berdiskusi dengan teman Anda, tetapi dilarang keras menyalin kode maupun tulisan dari teman Anda.\n",
    "\n",
    "### Petunjuk\n",
    "\n",
    "Terdapat lima _packages_ yang Anda akan gunakan dalam mengerjakan tugas ini, yaitu:\n",
    "\n",
    "- matplotlib\n",
    "- numpy\n",
    "- pandas\n",
    "- scipy\n",
    "- seaborn\n",
    "\n",
    "Anda diperbolehkan (jika dirasa perlu) untuk mengimpor modul tambahan untuk tugas ini. Namun, seharusnya modul yang tersedia sudah cukup untuk memenuhi kebutuhan Anda. Untuk kode yang Anda ambil dari sumber lain, **cantumkan URL menuju referensi tersebut jika diambil dari internet**!\n",
    "\n",
    "Perhatikan poin untuk tiap soal! **Semakin kecil poinnya, berarti kode yang diperlukan untuk menjawab soal tersebut seharusnya semakin sedikit!**"
   ]
  },
  {
   "cell_type": "markdown",
   "metadata": {},
   "source": [
    "***Jangan mengubah isi kolom ini***\n",
    "\n",
    "** 1. Analisis dan Manipulasi Data (/25 poin) **\n",
    "\n",
    "1.1 (/2 poin)\n",
    "\n",
    "1.2 (/2 poin)\n",
    "\n",
    "1.3 (/2 poin)\n",
    "\n",
    "1.4 (/4 poin)\n",
    "\n",
    "1.5 (/3 poin)\n",
    "\n",
    "1.6 (/5 poin)\n",
    "\n",
    "1.7.a (/2 poin)\n",
    "\n",
    "1.7.b (/3 poin)\n",
    "\n",
    "1.7.c (/2 poin)\n",
    "\n",
    "** 2. Visualisasi Data (/25 poin) **\n",
    "\n",
    "2.1.a (/3 poin)\n",
    "\n",
    "2.1.b (/7 poin)\n",
    "\n",
    "2.2 (/2 poin)\n",
    "\n",
    "2.3 (/2 poin)\n",
    "\n",
    "2.4.a (/2 poin)\n",
    "\n",
    "2.4.b (/6 poin)\n",
    "\n",
    "2.5 (/3 poin)"
   ]
  },
  {
   "cell_type": "markdown",
   "metadata": {},
   "source": [
    "**NIM:**\n",
    "\n",
    "**Nilai akhir: XX/50**"
   ]
  },
  {
   "cell_type": "markdown",
   "metadata": {},
   "source": [
    "### Deskripsi Dataset\n",
    "\n",
    "Pada tugas kali ini, Anda akan mencoba menganalisis dan memanipulasi Titanic dataset. Titanic dataset adalah data penumpang kapal RMS Titanic yang mengalami kecelakaan pada tahun 1912. Data ini berisi informasi tentang penumpang kapal tersebut. Tugas Anda adalah mencoba menggambarkan beberapa grafik yang dapat membantu Anda dalam memahami karakteristik dataset tersebut.\n",
    "\n",
    "Selain itu, Anda juga akan belajar untuk memanipulasi data dengan melakukan transformasi terhadap _dataframe_ dengan menggunakan Pandas dan NumPy. Oleh karena itu, Anda diharapkan menguasai beberapa operasi mendasar pada _dataframe_ yang dicontohkan dalam tugas ini. Anda bisa melihat deskripsi lengkapnya di [sini](http://archive.ics.uci.edu/ml/datasets/Iris?ref=datanews.io).\n",
    "\n",
    "Dalam proses _data mining_, ada beberapa istilah yang umum digunakan. Contohnya, kita menyebut variabel yang ada dalam dataset sebagai \"atribut\" atau \"fitur\", sementara variabel yang ingin diprediksi sebagai \"kelas\" atau \"kategori\". Dalam dataset Iris, atribut berarti `sex, age, fare, embarked`, dsb.; sementara kelas berarti variabel `survived`. Di sisi lain, objek, _data point_, atau _instance_ berarti satu baris dalam dataset."
   ]
  },
  {
   "cell_type": "markdown",
   "metadata": {},
   "source": [
    "### Mengimpor Modul dan Dataset"
   ]
  },
  {
   "cell_type": "code",
   "execution_count": null,
   "metadata": {
    "collapsed": true
   },
   "outputs": [],
   "source": [
    "from matplotlib.mlab import bivariate_normal\n",
    "import matplotlib.pyplot as plt\n",
    "import numpy as np\n",
    "import pandas as pd\n",
    "import seaborn as sns\n",
    "%matplotlib inline\n",
    "\n",
    "RANDOM_STATE = 1337"
   ]
  },
  {
   "cell_type": "code",
   "execution_count": null,
   "metadata": {
    "collapsed": true
   },
   "outputs": [],
   "source": [
    "df = sns.load_dataset('titanic')"
   ]
  },
  {
   "cell_type": "markdown",
   "metadata": {},
   "source": [
    "## 1. Analisis dan Manipulasi Data (25 poin)"
   ]
  },
  {
   "cell_type": "markdown",
   "metadata": {},
   "source": [
    "### Soal 1.1 (2 poin)\n",
    "\n",
    "Laporkan deskripsi dari Titanic dataset dengan menggunakan metode dari Pandas!"
   ]
  },
  {
   "cell_type": "code",
   "execution_count": null,
   "metadata": {
    "collapsed": true
   },
   "outputs": [],
   "source": [
    "# kode Anda di sini"
   ]
  },
  {
   "cell_type": "markdown",
   "metadata": {},
   "source": [
    "### Soal 1.2 (2 poin)\n",
    "\n",
    "Berapa jumlah masing-masing kelas dari dataset ini (i.e. berapa yang selamat dan berapa yang meninggal)?"
   ]
  },
  {
   "cell_type": "code",
   "execution_count": null,
   "metadata": {
    "collapsed": true
   },
   "outputs": [],
   "source": [
    "# kode Anda di sini"
   ]
  },
  {
   "cell_type": "markdown",
   "metadata": {},
   "source": [
    "### Soal 1.3 (2 poin)\n",
    "\n",
    "Berapa jumlah objek dengan nilai `age` yang hilang dalam dataset ini?"
   ]
  },
  {
   "cell_type": "code",
   "execution_count": null,
   "metadata": {
    "collapsed": true
   },
   "outputs": [],
   "source": [
    "# kode Anda di sini"
   ]
  },
  {
   "cell_type": "markdown",
   "metadata": {},
   "source": [
    "### Soal 1.4 (4 poin)\n",
    "\n",
    "Kelompokkan data berdasarkan `survived`, lalu hitung nilai rata-rata dan standar deviasi untuk `age` dan `fare`!"
   ]
  },
  {
   "cell_type": "code",
   "execution_count": null,
   "metadata": {
    "collapsed": true
   },
   "outputs": [],
   "source": [
    "# kode Anda di sini"
   ]
  },
  {
   "cell_type": "markdown",
   "metadata": {},
   "source": [
    "### Soal 1.5 (3 poin)\n",
    "\n",
    "Terdapat beberapa atribut yang berulang atau sudah merupakan hasil olahan dalam dataset ini. Oleh karena itu, cobalah Anda buang atribut-atribut berikut:\n",
    "\n",
    "- `class`\n",
    "- `who`\n",
    "- `adult_male`\n",
    "- `deck`\n",
    "- `embark_town`\n",
    "- `alive`\n",
    "- `alone`"
   ]
  },
  {
   "cell_type": "code",
   "execution_count": null,
   "metadata": {
    "collapsed": true
   },
   "outputs": [],
   "source": [
    "# kode Anda di sini"
   ]
  },
  {
   "cell_type": "markdown",
   "metadata": {},
   "source": [
    "### Soal 1.6 (5 poin)\n",
    "\n",
    "Terkadang, data yang kita terima memiliki jangkauan yang berbeda-beda di tiap atributnya. Buatlah dua atribut baru dari `age` dan `fare` dalam bentuk yang ternormalisasi. Nilai normal dapat dihitung sebagai:\n",
    "$$\n",
    "x'_i = \\frac{x_i - \\text{min}(\\mathbf{x})}{\\text{max}(\\mathbf{x}) - \\text{min}(\\mathbf{x})}\n",
    "$$\n",
    "dengan $\\mathbf{x}$ adalah vektor dari nilai suatu atribut dan $x_i$ adalah satu _instance_/objek yang ingin kita normalisasi. Simpan nilai `age` dan `fare` yang baru ini sebagai `normalised_age` dan `normalised_fare` dalam variabel `df`.\n",
    "\n",
    "_Catatan: Abaikan nilai `age` yang hilang!_"
   ]
  },
  {
   "cell_type": "code",
   "execution_count": null,
   "metadata": {
    "collapsed": true
   },
   "outputs": [],
   "source": [
    "# kode Anda di sini"
   ]
  },
  {
   "cell_type": "markdown",
   "metadata": {},
   "source": [
    "### Soal 1.7.a (2 poin)\n",
    "\n",
    "Sekarang, kita ingin melihat apakah ada korelasi antara usia penumpang dengan harga tiketnya. Hipotesisnya, seharusnya orang dewasa akan membayar lebih mahal dibandingkan anak kecil. Untuk membuktikan korelasi ini, kita bisa menggunakan fungsi dari NumPy. Namun, beberapa nilai `age` ternyata hilang (lihat kembali soal 1.3).\n",
    "\n",
    "Tugas Anda adalah: ganti nilai yang hilang ini! Salah satu caranya adalah dengan nilai median dari `age` yang tersedia, lalu menggunakan nilai tersebut sebagai pengganti nilai yang hilang."
   ]
  },
  {
   "cell_type": "code",
   "execution_count": null,
   "metadata": {
    "collapsed": true
   },
   "outputs": [],
   "source": [
    "# kode Anda di sini"
   ]
  },
  {
   "cell_type": "markdown",
   "metadata": {},
   "source": [
    "### Soal 1.7.b (2 poin)\n",
    "\n",
    "Setelah nilai `age` yang kosong tersebut diisi. Anda bisa menghitung nilai korelasinya dengan atribut `fare` menggunakan fungsi `numpy.corrcoef`. Perhatikan bahwa Anda mungkin perlu melakukan _transpose_ terhadap irisan dari DataFrame yang Anda gunakan. Cetaklah hasil dari fungsi tersebut!"
   ]
  },
  {
   "cell_type": "code",
   "execution_count": null,
   "metadata": {},
   "outputs": [],
   "source": [
    "# kode Anda di sini"
   ]
  },
  {
   "cell_type": "markdown",
   "metadata": {},
   "source": [
    "### Soal 1.7.c (3 poin)\n",
    "\n",
    "Lihat elemen ke $(1,2)$ atau $(2,1)$ dari matriks tersebut (catatan: secara matematis, indeks dimulai dari satu; dimensi matriks yang dihasilkan seharusnya $2 \\times 2$), berapa nilainya?\n",
    "\n",
    "Pembagian kategori nilai korelasi terkadang dilihat sebagai berikut ([sumber](http://www.dummies.com/education/math/statistics/how-to-interpret-a-correlation-coefficient-r/)):\n",
    "\n",
    "- Exactly –1. A perfect downhill (negative) linear relationship\n",
    "- –0.70. A strong downhill (negative) linear relationship\n",
    "- –0.50. A moderate downhill (negative) relationship\n",
    "- –0.30. A weak downhill (negative) linear relationship\n",
    "- 0 No linear relationship\n",
    "- +0.30. A weak uphill (positive) linear relationship\n",
    "- +0.50. A moderate uphill (positive) relationship\n",
    "- +0.70. A strong uphill (positive) linear relationship\n",
    "- Exactly +1. A perfect uphill (positive) linear relationship\n",
    "\n",
    "Buatlah fungsi yang membuat pembagian tersebut, lalu evaluasi seberapa kuat korelasi antara `age` dengan `fare`?"
   ]
  },
  {
   "cell_type": "code",
   "execution_count": null,
   "metadata": {
    "collapsed": true
   },
   "outputs": [],
   "source": [
    "# kode Anda di sini"
   ]
  },
  {
   "cell_type": "markdown",
   "metadata": {},
   "source": [
    "## 2. Visualisasi Data (25 poin)"
   ]
  },
  {
   "cell_type": "markdown",
   "metadata": {},
   "source": [
    "### Soal 2.1.a (3 poin)\n",
    "\n",
    "Untuk memperjelas hubungannya secara visual, gambarkan _scatter plot_ dengan sumbu $x$ adalah `age` dan sumbu $y$ adalah `fare`! Gunakan metode `jointplot` dari pustaka `seaborn`."
   ]
  },
  {
   "cell_type": "code",
   "execution_count": null,
   "metadata": {},
   "outputs": [],
   "source": [
    "# kode Anda di sini"
   ]
  },
  {
   "cell_type": "markdown",
   "metadata": {},
   "source": [
    "### Soal 2.1.b (7 poin)\n",
    "\n",
    "Gambarkan kembali _scatter plot_ tersebut, tapi kali ini cocokkan distribusi _bivariate Gaussian_ untuk menggambarkan _contour plot_ pada bidang yang sama!\n",
    "\n",
    "_Petunjuk: Hasil akhirnya akan seperti grafik [ini](http://nbviewer.jupyter.org/github/jakevdp/PythonDataScienceHandbook/blob/master/notebooks/06.00-Figure-Code.ipynb#Gaussian-Naive-Bayes), tetapi Anda tidak perlu membaginya per kelas._"
   ]
  },
  {
   "cell_type": "code",
   "execution_count": null,
   "metadata": {
    "collapsed": true
   },
   "outputs": [],
   "source": [
    "# kode Anda di sini"
   ]
  },
  {
   "cell_type": "markdown",
   "metadata": {},
   "source": [
    "### Soal 2.2 (2 poin)\n",
    "\n",
    "Gambarkan _barplot_ dari kelas tiket (`pclass`) untuk mengetahui dengan lebih baik distribusi atribut tersebut!"
   ]
  },
  {
   "cell_type": "code",
   "execution_count": null,
   "metadata": {},
   "outputs": [],
   "source": [
    "# kode Anda di sini"
   ]
  },
  {
   "cell_type": "markdown",
   "metadata": {},
   "source": [
    "### Soal 2.3 (2 poin)\n",
    "\n",
    "Anda ingin mengetahui dengan lebih jelas, apakah perempuan lebih didahulukan keselamatannya dibandingkan laki-laki. Untuk itu, gambarkan _bar plot_ yang dibagi berdasarkan status `survived`-nya dan bagi lagi masing-masing statusnya berdasarkan atribut `sex`.\n",
    "\n",
    "_Petunjuk: Seharusnya Anda akan menghasilkan empat bars: survived male, survived female, dead male, dead female._"
   ]
  },
  {
   "cell_type": "code",
   "execution_count": null,
   "metadata": {
    "collapsed": true
   },
   "outputs": [],
   "source": [
    "# kode Anda di sini"
   ]
  },
  {
   "cell_type": "markdown",
   "metadata": {},
   "source": [
    "### Soal 2.4.a (2 poin)\n",
    "\n",
    "Kita ingin melihat korelasi dengan lebih jelas melalui bantuan visualisasi. Namun, ubahlah terlebih dahulu nilai `sex` menjadi 1 untuk _male_ dan 0 untuk _female_."
   ]
  },
  {
   "cell_type": "code",
   "execution_count": null,
   "metadata": {},
   "outputs": [],
   "source": [
    "# kode Anda di sini"
   ]
  },
  {
   "cell_type": "markdown",
   "metadata": {},
   "source": [
    "### Soal 2.4.b (6 poin)\n",
    "\n",
    "Hitunglah nilai korelasi dari kelima variabel berikut: `survived`, `pclass`, `sex`, `age`, dan `fare`. Lalu, gambarkan _heatmap_-nya!\n",
    "\n",
    "_Catatan: Tuliskan nilai korelasinya dalam heatmap yang dihasilkan! Jangan lupa untuk mengganti label di sumbu x dan y dengan nama atribut yang digunakan_"
   ]
  },
  {
   "cell_type": "code",
   "execution_count": null,
   "metadata": {
    "collapsed": true
   },
   "outputs": [],
   "source": [
    "# kode Anda di sini"
   ]
  },
  {
   "cell_type": "markdown",
   "metadata": {},
   "source": [
    "### Soal 2.5 (3 poin)\n",
    "\n",
    "Pada bagian ini, Anda dibebaskan menggambarkan visualisasi yang menurut Anda menarik. Silakan bereksplorasi! Gambarkan dua plot atau lebih dari data yang sudah diberikan."
   ]
  },
  {
   "cell_type": "code",
   "execution_count": null,
   "metadata": {
    "collapsed": true
   },
   "outputs": [],
   "source": [
    "# koda Anda di sini"
   ]
  }
 ],
 "metadata": {
  "kernelspec": {
   "display_name": "Python 2",
   "language": "python",
   "name": "python2"
  },
  "language_info": {
   "codemirror_mode": {
    "name": "ipython",
    "version": 2
   },
   "file_extension": ".py",
   "mimetype": "text/x-python",
   "name": "python",
   "nbconvert_exporter": "python",
   "pygments_lexer": "ipython2",
   "version": "2.7.12"
  }
 },
 "nbformat": 4,
 "nbformat_minor": 2
}
