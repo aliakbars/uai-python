{
 "cells": [
  {
   "cell_type": "markdown",
   "metadata": {},
   "source": [
    "# Pemrograman Python\n",
    "\n",
    "## Tugas 4: Klasifikasi Gambar\n",
    "\n",
    "### Mekanisme\n",
    "\n",
    "Anda hanya diwajibkan untuk mengumpulkan file ini saja ke uploader yang disediakan di http://elearning2.uai.ac.id/. Ganti nama file ini saat pengumpulan menjadi tugas4_NIM.ipynb.\n",
    "\n",
    "**Keterlambatan**: Pengumpulan tugas yang melebihi tenggat yang telah ditentukan tidak akan diterima. Keterlambatan akan berakibat pada nilai nol untuk tugas ini.\n",
    "\n",
    "**Kolaborasi**: Anda diperbolehkan untuk berdiskusi dengan teman Anda, tetapi dilarang keras menyalin kode maupun tulisan dari teman Anda.\n",
    "\n",
    "### Petunjuk\n",
    "\n",
    "Terdapat enam _packages_ yang Anda akan gunakan dalam mengerjakan tugas ini, yaitu:\n",
    "\n",
    "- keras\n",
    "- matplotlib\n",
    "- numpy\n",
    "- pandas\n",
    "- scipy\n",
    "- seaborn\n",
    "\n",
    "Anda diperbolehkan (jika dirasa perlu) untuk mengimpor modul tambahan untuk tugas ini. Namun, seharusnya modul yang tersedia sudah cukup untuk memenuhi kebutuhan Anda. Untuk kode yang Anda ambil dari sumber lain, **cantumkan URL menuju referensi tersebut jika diambil dari internet**!\n",
    "\n",
    "Perhatikan poin untuk tiap soal! **Semakin kecil poinnya, berarti kode yang diperlukan untuk menjawab soal tersebut seharusnya semakin sedikit!**\n",
    "\n",
    "Dalam tugas ini, Anda mungkin perlu mengetahui bagaimna cara melakukan **masking** dalam NumPy. Untuk itu, Anda bisa melihat referensinya di [sini](http://nbviewer.jupyter.org/github/jakevdp/PythonDataScienceHandbook/blob/master/notebooks/02.06-Boolean-Arrays-and-Masks.ipynb)."
   ]
  },
  {
   "cell_type": "markdown",
   "metadata": {},
   "source": [
    "**NIM:**\n",
    "\n",
    "**Nilai akhir: XX/100**"
   ]
  },
  {
   "cell_type": "markdown",
   "metadata": {},
   "source": [
    "### Deskripsi Dataset\n",
    "\n",
    "Pada tugas kali ini, Anda akan mencoba membuat mesin untuk mengklasifikasikan gambar. Terdapat dua jenis gambar: angka dan hewan. Dataset angka akan menggunakan [MNIST](http://yann.lecun.com/exdb/mnist/), salah satu dataset standar untuk pengolahan gambar yang sederhana. Anda akan mencoba mengklasifikasikan apakah suatu gambar berukuran 28 x 28 pixels yang menunjukkan angka 0-9.\n",
    "\n",
    "Dataset hewan merupakan hasil \"gambar tangan\" beberapa orang melalui internet. Dataset untuk tugas ini diambil dari [The Quick Draw Dataset](https://github.com/googlecreativelab/quickdraw-dataset) yang dikumpulkan oleh Google. Dataset ini terdiri dari 50 juta gambar yang terdiri dari 345 kategori.\n",
    "\n",
    "Untuk menyederhanakan tugas Anda, meski Anda akan memakai keseluruhan data MNIST, hanya subset dari dataset hewan yang diambil, yaitu sejumlah gambar dari 4 kategori hewan: **cat**, **crab**, **dog**, dan **dolphin**. Anda akan mengeksplorasi beberapa algoritma pembelajaran mesin yang dapat digunakan untuk mengklasifikasi gambar-gambar tersebut. Selain itu, Anda juga akan membuat beberapa visualisasi dari beberapa sampel gambar dalam dataset."
   ]
  },
  {
   "cell_type": "markdown",
   "metadata": {},
   "source": [
    "### Mengimpor Modul dan Dataset"
   ]
  },
  {
   "cell_type": "code",
   "execution_count": null,
   "metadata": {
    "collapsed": true
   },
   "outputs": [],
   "source": [
    "from __future__ import print_function, division # Gunakan print(...) dan bukan print ...\n",
    "import matplotlib.pyplot as plt\n",
    "import numpy as np\n",
    "import pandas as pd\n",
    "import seaborn as sns\n",
    "%matplotlib inline\n",
    "\n",
    "RANDOM_STATE = 1337\n",
    "np.random.seed(RANDOM_STATE)"
   ]
  },
  {
   "cell_type": "code",
   "execution_count": null,
   "metadata": {
    "collapsed": true
   },
   "outputs": [],
   "source": [
    "from keras.datasets import mnist\n",
    "from sklearn.linear_model import LogisticRegression\n",
    "from sklearn.metrics import accuracy_score, confusion_matrix\n",
    "from sklearn.model_selection import train_test_split"
   ]
  },
  {
   "cell_type": "code",
   "execution_count": null,
   "metadata": {
    "collapsed": true
   },
   "outputs": [],
   "source": [
    "(X_train, y_train), (X_test, y_test) = mnist.load_data()"
   ]
  },
  {
   "cell_type": "markdown",
   "metadata": {},
   "source": [
    "## 1. Eksplorasi Awal Data - MNIST (25 poin)"
   ]
  },
  {
   "cell_type": "markdown",
   "metadata": {},
   "source": [
    "### Soal 1.1.a (3 poin)\n",
    "\n",
    "Berapa jumlah gambar dalam `X_train`? Berapa jumlah gambar dalam `X_test`?\n",
    "\n",
    "*Catatan: Ingat, jumlah data $\\sim$ jumlah baris!*"
   ]
  },
  {
   "cell_type": "code",
   "execution_count": null,
   "metadata": {
    "collapsed": true
   },
   "outputs": [],
   "source": []
  },
  {
   "cell_type": "markdown",
   "metadata": {},
   "source": [
    "### Soal 1.1.b (2 poin)\n",
    "\n",
    "Tunjukkan dimensi dari satu gambar dalam dataset tersebut!"
   ]
  },
  {
   "cell_type": "code",
   "execution_count": null,
   "metadata": {
    "collapsed": true
   },
   "outputs": [],
   "source": []
  },
  {
   "cell_type": "markdown",
   "metadata": {},
   "source": [
    "### Soal 1.2 (7 poin)\n",
    "\n",
    "Tampilkan 5 gambar sampel dari masing-masing kelas dalam `X_train` secara acak, lalu buatlah dalam bentuk grid berukuran 10 x 5!"
   ]
  },
  {
   "cell_type": "code",
   "execution_count": null,
   "metadata": {
    "collapsed": true
   },
   "outputs": [],
   "source": []
  },
  {
   "cell_type": "markdown",
   "metadata": {},
   "source": [
    "### Soal 1.3.a (6 poin)\n",
    "\n",
    "Gambarkan histogram nilai pixel di posisi (0,0), i.e. pojok kiri atas, dan (15,15) dari data `X_train` dalam dua plot yang berbeda. Batasi sumbu x untuk bernilai $x \\in [0, 1]$. Bagi nilai tiap pixel dengan 255.0 terlebih dahulu."
   ]
  },
  {
   "cell_type": "code",
   "execution_count": null,
   "metadata": {
    "collapsed": true
   },
   "outputs": [],
   "source": []
  },
  {
   "cell_type": "markdown",
   "metadata": {},
   "source": [
    "### Soal 1.3.b (2 poin)\n",
    "\n",
    "Apa yang dapat Anda simpulkan dari kedua histogram tersebut?"
   ]
  },
  {
   "cell_type": "markdown",
   "metadata": {},
   "source": [
    "_Jawaban Anda di sini_"
   ]
  },
  {
   "cell_type": "markdown",
   "metadata": {},
   "source": [
    "### Soal 1.4 (5 poin)\n",
    "\n",
    "Berapa jumlah data untuk masing-masing kelas dalam data latih dan data uji? Tunjukkan juga dalam diagram batang untuk mendapatkan nilai penuh!\n",
    "\n",
    "*Petunjuk: Anda dapat memanfaatkan salah satu modul dalam paket `collections`!*"
   ]
  },
  {
   "cell_type": "code",
   "execution_count": null,
   "metadata": {
    "collapsed": true
   },
   "outputs": [],
   "source": []
  },
  {
   "cell_type": "markdown",
   "metadata": {},
   "source": [
    "## 2. Klasifikasi MNIST dengan Regresi Logistik (20 poin)"
   ]
  },
  {
   "cell_type": "markdown",
   "metadata": {},
   "source": [
    "### Soal 2.1 (2 poin)\n",
    "\n",
    "Reshape `X_train` dan `X_test` ke dalam dimensi $n \\times 784$! Jangan lupa untuk membagi nilainya dengan 255.0 jika di pertanyaan sebelumnya tidak Anda simpan hasil pembagiannya."
   ]
  },
  {
   "cell_type": "code",
   "execution_count": null,
   "metadata": {
    "collapsed": true
   },
   "outputs": [],
   "source": []
  },
  {
   "cell_type": "markdown",
   "metadata": {},
   "source": [
    "### Soal 2.2 (5 poin)\n",
    "\n",
    "Dengan regresi logistik (`LogisticRegression`), klasifikasikan `X_test` dari `X_train` dengan mengatur `random_state`-nya terlebih dahulu, laporkan akurasinya dan gambarkan *heatmap* dari *confusion matrix*-nya! Jangan lupa untuk memberikan label untuk amsing-masing sumbunya dan mengantoasi tiap kotak pada *heatmap*!\n",
    "\n",
    "Pada proses pelatihan model (`clf.fit()`), tambahkan `%timeit -n1` pada baris yang sama sehingga menjadi `%timeit -n1 clf.fit()`. Ini akan menunjukkan waktu yang dibutuhkan untuk melatih model tersebut.\n",
    "\n",
    "*Petunjuk: Gunakan fungsi `.fit()` dan `.predict()`. Simpan hasil `.predict()` dalam `y_pred`. Akurasi dapat dihitung dengan `sklearn.metrics.accuracy_score`. Silakan baca dokumentasinya untuk tahu lebih lengkap cara pemakaiannya. Anda juga dapat melihat contoh kode di [sini](https://github.com/aliakbars/uai-python/blob/master/scripts/week10/knn.py) pada baris 35-37.*"
   ]
  },
  {
   "cell_type": "code",
   "execution_count": null,
   "metadata": {
    "collapsed": true
   },
   "outputs": [],
   "source": []
  },
  {
   "cell_type": "markdown",
   "metadata": {},
   "source": [
    "### Soal 2.3 (5 poin)\n",
    "\n",
    "Perhatikan bahwa dibutuhkan waktu yang cukup lama untuk melatih model dengan regresi logistik. Kita akan mencoba mempercepat ini dan mencari komponen pentingnya dengan *Principal Component Analysis* (PCA). Ambil dimensi yang menjelaskan 90% variansinya (lihat dokumentasi [`PCA`](http://scikit-learn.org/stable/modules/generated/sklearn.decomposition.PCA.html)), lalu transformasikan bentuk `X_train` dan `X_test`. Kemudian, latih kembali regresi logistik dengan kode seperti yang telah Anda buat di soal 2.2 dan prediksi label `X_test`! Catat waktu yang dibutuhkan untuk proses transformasi `X_train` dengan PCA dan saat melatih model regresi logistik dengan `%timeit -n1`. Apakah Anda menemukan perbedaan waktu dan akurasi dengan soal 2.2?\n",
    "\n",
    "*Petunjuk: Atur nilai `n_components` pada saat instansiasi `PCA`. Gunakan `.fit()` dan `.transform()` dari modul `PCA` dan baca dokumentasinya untuk tahu lebih lengkap cara pemakaiannya!*"
   ]
  },
  {
   "cell_type": "code",
   "execution_count": null,
   "metadata": {
    "collapsed": true
   },
   "outputs": [],
   "source": []
  },
  {
   "cell_type": "markdown",
   "metadata": {},
   "source": [
    "### Soal 2.4.a (5 poin)\n",
    "\n",
    "Lakukan PCA kembali untuk menghasilkan 2 komponen prinsipil saja dari `X_train`. Lalu, visualisasikan hasil transformasi tersebut dalam *scatter plot* yang dibedakan warnanya berdasarkan kelas dalam `y_train`!"
   ]
  },
  {
   "cell_type": "code",
   "execution_count": null,
   "metadata": {
    "collapsed": true,
    "scrolled": false
   },
   "outputs": [],
   "source": []
  },
  {
   "cell_type": "markdown",
   "metadata": {},
   "source": [
    "### Soal 2.4.b (3 poin)\n",
    "\n",
    "Lakukan hal yang serupa seperti pada soal 2.4.a, tetapi kali ini pilih 3 komponen prinsipil, lalu visualisasikan dalam *scatter plot* 3 dimensi!"
   ]
  },
  {
   "cell_type": "code",
   "execution_count": null,
   "metadata": {
    "collapsed": true
   },
   "outputs": [],
   "source": []
  },
  {
   "cell_type": "markdown",
   "metadata": {},
   "source": [
    "## 3. Eksplorasi Awal Data - Quick Draw (20 poin)"
   ]
  },
  {
   "cell_type": "markdown",
   "metadata": {},
   "source": [
    "### Soal 3.1 (3 poin)\n",
    "\n",
    "Muat data `quickdraw.npy` ke dalam variabel `X` dan `quickdraw_labels.npy` ke dalam variabel `y`. Tunjukkan berapa jumlah gambar dalam data tersebut dan berapa jumlah pixel-nya!\n",
    "\n",
    "*Petunjuk: Gunakan fungsi dari modul NumPy untuk memuat data tersebut.*"
   ]
  },
  {
   "cell_type": "code",
   "execution_count": null,
   "metadata": {
    "collapsed": true
   },
   "outputs": [],
   "source": []
  },
  {
   "cell_type": "markdown",
   "metadata": {},
   "source": [
    "### Soal 3.2 (3 poin)\n",
    "\n",
    "Bagi data ke dalam `X_train`, `X_test`, `y_train`, `y_test` dengan `sklearn.model_selection.train_test_split`. Pastikan porsi data uji adalah 20000 gambar, dan sisanya adalah data latih. Kemudian, tunjukkan berapa **jumlah gambar untuk masing-masing hewan** di dalam `y_train` dan `y_test`."
   ]
  },
  {
   "cell_type": "code",
   "execution_count": null,
   "metadata": {
    "collapsed": true
   },
   "outputs": [],
   "source": []
  },
  {
   "cell_type": "markdown",
   "metadata": {},
   "source": [
    "### Soal 3.3 (5 poin)\n",
    "\n",
    "Tampilkan 10 gambar sampel dari masing-masing kelas dalam `X_train` **secara acak**, lalu buatlah dalam bentuk grid berukuran 4 x 10!\n",
    "\n",
    "*Petunjuk: Anda mungkin perlu mengubah dimensi dari `X_train` $n \\times d \\times d$ dengan $n$ adalah jumlah gambar dan $d$ adalah jumlah pixel dalam baris dan kolom (satu gambar akan berbentuk persegi).*"
   ]
  },
  {
   "cell_type": "code",
   "execution_count": null,
   "metadata": {
    "collapsed": true
   },
   "outputs": [],
   "source": []
  },
  {
   "cell_type": "markdown",
   "metadata": {},
   "source": [
    "### Soal 3.4 (5 poin)\n",
    "\n",
    "Ambil nilai rata-rata untuk masing-masing pixel untuk masing-masing kelas (**cat**, **crab**, **dog**, dan **dolphin**) dalam `X_train`, kemudian tampilkan gambar rata-rata tersebut!"
   ]
  },
  {
   "cell_type": "code",
   "execution_count": null,
   "metadata": {
    "collapsed": true
   },
   "outputs": [],
   "source": []
  },
  {
   "cell_type": "markdown",
   "metadata": {},
   "source": [
    "### Soal 3.5 (4 poin)\n",
    "\n",
    "Bagi dataset tersebut ke dalam dua himpunan variabel: **cat vs dog** dan **crab vs dolphin**.\n",
    "\n",
    "*Contoh: Hasilnya dapat Anda simpan dalam `X_train_catdog`, `X_test_catdog`, `y_train_catdog`, `y_test_catdog`; dan `X_train_crabdolp`, `X_test_crabdolp`, `y_train_crabdolp`, `y_test_crabdolp`.*"
   ]
  },
  {
   "cell_type": "code",
   "execution_count": null,
   "metadata": {
    "collapsed": true
   },
   "outputs": [],
   "source": []
  },
  {
   "cell_type": "markdown",
   "metadata": {},
   "source": [
    "## 4. Klasifikasi Quick Draw (25 poin)"
   ]
  },
  {
   "cell_type": "markdown",
   "metadata": {},
   "source": [
    "### Soal 4.1.a (5 poin)\n",
    "\n",
    "Ubah nilai setiap pixel dalam `X_train` dan `X_test` untuk **cat vs dog** dengan membaginya dengan 255.0. Ganti nilai pada `y_train` dan `y_test` agar `'cat' = 1` dan `'dog' = 0`. Lalu, gunakan regresi logistik untuk mengklasifkasikan gambar-gambar tersebut, laporkan akurasinya, dan gambarkan *heatmap* dari *confusion matrix*-nya.\n",
    "\n",
    "*Catatan: Normalnya, sumbu y adalah 'true value', sedangkan sumbu x adalah 'predicted value' pada confusion matrix.*"
   ]
  },
  {
   "cell_type": "code",
   "execution_count": null,
   "metadata": {
    "collapsed": true,
    "scrolled": true
   },
   "outputs": [],
   "source": []
  },
  {
   "cell_type": "markdown",
   "metadata": {},
   "source": [
    "### Soal 4.1.b (3 poin)\n",
    "\n",
    "Gunakan `sklearn.dummy.DummyClassifier` untuk mengklasifikasikan gambar-gambar tersebut, laporkan akurasinya, dan gambarkan *heatmap* dari *confusion matrix*-nya. Mana yang hasilnya lebih baik?"
   ]
  },
  {
   "cell_type": "code",
   "execution_count": null,
   "metadata": {
    "collapsed": true
   },
   "outputs": [],
   "source": []
  },
  {
   "cell_type": "markdown",
   "metadata": {},
   "source": [
    "### Soal 4.2.a (5 poin)\n",
    "\n",
    "Anda mungkin akan menemukan bahwa hasil klasifikasi dengan regresi logistik untuk kasus **cat vs dog** akurasinya hanya mencapai sekitar 80%. Seperti yang mungkin Anda duga dari gambar yang dihasilkan pada soal 3.3, banyak kesamaan bentuk dari **cat** dan **dog** jika dibandingkan dengan **crab vs dolphin**. Untuk itu, kita akan mencoba mengklasifikasikan **crab vs dolphin** kali ini. Jadikan `'crab' = 1` dan `'dolphin' = 0`, lalu prediksi data uji dengan regresi logistik dan laporkanlah *metrics* seperti pada soal 4.1.a!"
   ]
  },
  {
   "cell_type": "code",
   "execution_count": null,
   "metadata": {
    "collapsed": true
   },
   "outputs": [],
   "source": []
  },
  {
   "cell_type": "markdown",
   "metadata": {},
   "source": [
    "### Soal 4.2.b (3 poin)\n",
    "\n",
    "`DummyClassifier` seperti yang digunakan pada soal 4.1.b merupakan cara klasifikasi **secara acak** yang hanya memastikan bahwa proporsi kelas hasil prediksi harus sama dengan proporsi kelas saat proses `.fit()`. Hal ini biasa kita gunakan sebagai *baseline* atau standar untuk dikalahkan.\n",
    "\n",
    "Lakukan kembali hal yang diminta pada soal 4.1.b, tetapi kali ini dengan dataset **crab vs dolphin** yang telah Anda buat."
   ]
  },
  {
   "cell_type": "code",
   "execution_count": null,
   "metadata": {
    "collapsed": true
   },
   "outputs": [],
   "source": []
  },
  {
   "cell_type": "markdown",
   "metadata": {},
   "source": [
    "### Soal 4.3 (2 poin)\n",
    "\n",
    "Seharusnya, saat ini Anda masih memiliki variabel `X` dan `y` yang mengandung data dalam bentuk gabungan. Tugas Anda kali ini adalah mengubah terlebih dahulu label pada variabel `y` ke dalam angka agar dapat diproses oleh algoritma klasifikasi. Gunakan `sklearn.preprocessing.LabelEncoder` lalu simpan nilainya dalam `y_label`.\n",
    "\n",
    "*Petunjuk: Anda dapat langsung mentransformasikannya dengan `.fit_transform()`*"
   ]
  },
  {
   "cell_type": "code",
   "execution_count": null,
   "metadata": {
    "collapsed": true
   },
   "outputs": [],
   "source": []
  },
  {
   "cell_type": "markdown",
   "metadata": {},
   "source": [
    "### Soal 4.4 (2 poin)\n",
    "\n",
    "Bagi kembali datanya ke dalam `X_train`, `X_test`, `y_train`, `y_test` seperti pada soal 3.2, lalu bagi setiap nilai pada `X_train` dan `X_test` dengan 255.0!"
   ]
  },
  {
   "cell_type": "code",
   "execution_count": null,
   "metadata": {
    "collapsed": true
   },
   "outputs": [],
   "source": []
  },
  {
   "cell_type": "markdown",
   "metadata": {},
   "source": [
    "### Soal 4.5 (5 poin)\n",
    "\n",
    "Lakukan kembali klasifikasi dengan `DummyClassifier` dan regresi logistik! Perhatikan kembali akurasi dan *confusion matrix*-nya, apa yang dapat Anda lihat?\n",
    "\n",
    "*Petunjuk: Saat membuat heatmap dengan fungsi dari seaborn, ubah parameter `xticklabels` dan `yticklabels` dengan fungsi `.inverse_transform` dari `LabelEncoder` untuk mengubah label menjadi nama hewan kembali.*"
   ]
  },
  {
   "cell_type": "code",
   "execution_count": null,
   "metadata": {
    "collapsed": true
   },
   "outputs": [],
   "source": []
  },
  {
   "cell_type": "markdown",
   "metadata": {},
   "source": [
    "## 5. Klasifikasi dengan Deep Learning (10 poin)\n",
    "\n",
    "Coba klasifikasikan data Quick Draw untuk keempat hewan dengan menggunakan pustaka dari Keras untuk *deep learning* atau *neural networks*. Jangan lupa untuk melaporkan akurasi dan *confusion matrix*-nya.\n",
    "\n",
    "*Petunjuk: Anda mungkin perlu mengubah dimensi dari data latih dan data uji Anda menjadi $n \\times d \\times d \\times 1$ dengan 1 dimensi terakhir adalah channel hitam-putih. Nilainya bisa menjadi 3 jika kita menggunakan channel warna RGB.*\n",
    "\n",
    "*Anda mungkin perlu menggunakan representasi one-of-K untuk label yang digunakan. Anda dapat menggunakan `keras.utils.to_categorical` untuk melakukan hal ini. Silakan mencontoh kode untuk deep neural networks sederhana di [sini](https://github.com/fchollet/keras/blob/master/examples/mnist_mlp.py) atau dengan menggunakan convolutional neural networks di [sini](https://github.com/fchollet/keras/blob/master/examples/mnist_cnn.py).*\n",
    "\n",
    "Penilaian:\n",
    "\n",
    "1. Implementasi kode simple deep neural networks (5 poin)\n",
    "2. Implementasi convolutional neural networks (3 poin)\n",
    "3. Melaporkan akurasi dan membuat heatmap confusion matrix (2 poin)"
   ]
  },
  {
   "cell_type": "code",
   "execution_count": null,
   "metadata": {
    "collapsed": true
   },
   "outputs": [],
   "source": []
  }
 ],
 "metadata": {
  "kernelspec": {
   "display_name": "Python 2",
   "language": "python",
   "name": "python2"
  },
  "language_info": {
   "codemirror_mode": {
    "name": "ipython",
    "version": 2
   },
   "file_extension": ".py",
   "mimetype": "text/x-python",
   "name": "python",
   "nbconvert_exporter": "python",
   "pygments_lexer": "ipython2",
   "version": "2.7.12"
  }
 },
 "nbformat": 4,
 "nbformat_minor": 2
}
